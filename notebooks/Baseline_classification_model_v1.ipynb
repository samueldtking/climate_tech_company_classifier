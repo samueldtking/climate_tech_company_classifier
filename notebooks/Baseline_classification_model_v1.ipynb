{
 "cells": [
  {
   "cell_type": "markdown",
   "id": "european-boring",
   "metadata": {},
   "source": [
    "# Climate Tech Company Classifier"
   ]
  },
  {
   "cell_type": "markdown",
   "id": "foster-toddler",
   "metadata": {},
   "source": [
    "## Load Modules"
   ]
  },
  {
   "cell_type": "code",
   "execution_count": 215,
   "id": "center-seven",
   "metadata": {},
   "outputs": [
    {
     "name": "stderr",
     "output_type": "stream",
     "text": [
      "[nltk_data] Downloading package stopwords to\n",
      "[nltk_data]     C:\\Users\\DE117240\\AppData\\Roaming\\nltk_data...\n",
      "[nltk_data]   Package stopwords is already up-to-date!\n",
      "[nltk_data] Downloading package punkt to\n",
      "[nltk_data]     C:\\Users\\DE117240\\AppData\\Roaming\\nltk_data...\n",
      "[nltk_data]   Package punkt is already up-to-date!\n"
     ]
    },
    {
     "data": {
      "text/plain": [
       "True"
      ]
     },
     "execution_count": 215,
     "metadata": {},
     "output_type": "execute_result"
    }
   ],
   "source": [
    "import pandas as pd\n",
    "import numpy as np\n",
    "import re\n",
    "import string\n",
    "import nltk\n",
    "from nltk.tokenize import word_tokenize\n",
    "from nltk.corpus import stopwords\n",
    "from nltk.stem import WordNetLemmatizer\n",
    "\n",
    "nltk.download('stopwords')\n",
    "nltk.download('punkt')"
   ]
  },
  {
   "cell_type": "markdown",
   "id": "cardiac-lecture",
   "metadata": {},
   "source": [
    "## Load Data"
   ]
  },
  {
   "cell_type": "code",
   "execution_count": 227,
   "id": "forward-deadline",
   "metadata": {},
   "outputs": [],
   "source": [
    "df = pd.read_csv('../data/raw/climate_tech_companies_25042021.csv')"
   ]
  },
  {
   "cell_type": "markdown",
   "id": "modified-premium",
   "metadata": {},
   "source": [
    "## Clean Data"
   ]
  },
  {
   "cell_type": "code",
   "execution_count": 228,
   "id": "hindu-gothic",
   "metadata": {},
   "outputs": [
    {
     "name": "stdout",
     "output_type": "stream",
     "text": [
      "313\n"
     ]
    }
   ],
   "source": [
    "#remove any without any description\n",
    "df = df[df['description'].notna()]\n",
    "\n",
    "#normalize empty/na in y class\n",
    "df['domain'] = df['domain'].str.strip()\n",
    "df['domain'] = df['domain'].replace(r'^\\s*$', np.nan, regex=True)\n",
    "\n",
    "#seperate those with labels and those without\n",
    "data_nolabels = df[df['domain'].isna()]\n",
    "data_with_labels = df[df['domain'].notna()]\n",
    "\n",
    "print(len(data_with_labels))"
   ]
  },
  {
   "cell_type": "code",
   "execution_count": 232,
   "id": "shaped-february",
   "metadata": {},
   "outputs": [
    {
     "data": {
      "text/html": [
       "<div>\n",
       "<style scoped>\n",
       "    .dataframe tbody tr th:only-of-type {\n",
       "        vertical-align: middle;\n",
       "    }\n",
       "\n",
       "    .dataframe tbody tr th {\n",
       "        vertical-align: top;\n",
       "    }\n",
       "\n",
       "    .dataframe thead th {\n",
       "        text-align: right;\n",
       "    }\n",
       "</style>\n",
       "<table border=\"1\" class=\"dataframe\">\n",
       "  <thead>\n",
       "    <tr style=\"text-align: right;\">\n",
       "      <th></th>\n",
       "      <th>name</th>\n",
       "      <th>website</th>\n",
       "      <th>city</th>\n",
       "      <th>country</th>\n",
       "      <th>subdomain</th>\n",
       "      <th>tags</th>\n",
       "      <th>ML/AI</th>\n",
       "      <th>description</th>\n",
       "      <th>logo</th>\n",
       "      <th>source</th>\n",
       "    </tr>\n",
       "    <tr>\n",
       "      <th>domain</th>\n",
       "      <th></th>\n",
       "      <th></th>\n",
       "      <th></th>\n",
       "      <th></th>\n",
       "      <th></th>\n",
       "      <th></th>\n",
       "      <th></th>\n",
       "      <th></th>\n",
       "      <th></th>\n",
       "      <th></th>\n",
       "    </tr>\n",
       "  </thead>\n",
       "  <tbody>\n",
       "    <tr>\n",
       "      <th>Buildings &amp; Cities</th>\n",
       "      <td>35</td>\n",
       "      <td>35</td>\n",
       "      <td>35</td>\n",
       "      <td>35</td>\n",
       "      <td>35</td>\n",
       "      <td>35</td>\n",
       "      <td>2</td>\n",
       "      <td>35</td>\n",
       "      <td>33</td>\n",
       "      <td>35</td>\n",
       "    </tr>\n",
       "    <tr>\n",
       "      <th>Climate Prediction</th>\n",
       "      <td>3</td>\n",
       "      <td>3</td>\n",
       "      <td>3</td>\n",
       "      <td>3</td>\n",
       "      <td>3</td>\n",
       "      <td>3</td>\n",
       "      <td>2</td>\n",
       "      <td>3</td>\n",
       "      <td>3</td>\n",
       "      <td>3</td>\n",
       "    </tr>\n",
       "    <tr>\n",
       "      <th>Collective Decisions</th>\n",
       "      <td>4</td>\n",
       "      <td>4</td>\n",
       "      <td>4</td>\n",
       "      <td>4</td>\n",
       "      <td>4</td>\n",
       "      <td>4</td>\n",
       "      <td>0</td>\n",
       "      <td>4</td>\n",
       "      <td>4</td>\n",
       "      <td>4</td>\n",
       "    </tr>\n",
       "    <tr>\n",
       "      <th>Education</th>\n",
       "      <td>1</td>\n",
       "      <td>1</td>\n",
       "      <td>1</td>\n",
       "      <td>1</td>\n",
       "      <td>1</td>\n",
       "      <td>1</td>\n",
       "      <td>0</td>\n",
       "      <td>1</td>\n",
       "      <td>1</td>\n",
       "      <td>1</td>\n",
       "    </tr>\n",
       "    <tr>\n",
       "      <th>Electricity System</th>\n",
       "      <td>78</td>\n",
       "      <td>78</td>\n",
       "      <td>76</td>\n",
       "      <td>78</td>\n",
       "      <td>78</td>\n",
       "      <td>78</td>\n",
       "      <td>11</td>\n",
       "      <td>78</td>\n",
       "      <td>72</td>\n",
       "      <td>78</td>\n",
       "    </tr>\n",
       "    <tr>\n",
       "      <th>Farms &amp; Forests</th>\n",
       "      <td>31</td>\n",
       "      <td>31</td>\n",
       "      <td>31</td>\n",
       "      <td>31</td>\n",
       "      <td>31</td>\n",
       "      <td>31</td>\n",
       "      <td>3</td>\n",
       "      <td>31</td>\n",
       "      <td>26</td>\n",
       "      <td>31</td>\n",
       "    </tr>\n",
       "    <tr>\n",
       "      <th>Finance</th>\n",
       "      <td>11</td>\n",
       "      <td>11</td>\n",
       "      <td>11</td>\n",
       "      <td>11</td>\n",
       "      <td>11</td>\n",
       "      <td>11</td>\n",
       "      <td>0</td>\n",
       "      <td>11</td>\n",
       "      <td>11</td>\n",
       "      <td>11</td>\n",
       "    </tr>\n",
       "    <tr>\n",
       "      <th>Individual Action</th>\n",
       "      <td>66</td>\n",
       "      <td>66</td>\n",
       "      <td>66</td>\n",
       "      <td>66</td>\n",
       "      <td>66</td>\n",
       "      <td>66</td>\n",
       "      <td>6</td>\n",
       "      <td>66</td>\n",
       "      <td>60</td>\n",
       "      <td>66</td>\n",
       "    </tr>\n",
       "    <tr>\n",
       "      <th>Industry</th>\n",
       "      <td>40</td>\n",
       "      <td>40</td>\n",
       "      <td>38</td>\n",
       "      <td>40</td>\n",
       "      <td>40</td>\n",
       "      <td>40</td>\n",
       "      <td>8</td>\n",
       "      <td>40</td>\n",
       "      <td>40</td>\n",
       "      <td>40</td>\n",
       "    </tr>\n",
       "    <tr>\n",
       "      <th>Societal Impact</th>\n",
       "      <td>2</td>\n",
       "      <td>2</td>\n",
       "      <td>2</td>\n",
       "      <td>2</td>\n",
       "      <td>2</td>\n",
       "      <td>2</td>\n",
       "      <td>0</td>\n",
       "      <td>2</td>\n",
       "      <td>1</td>\n",
       "      <td>2</td>\n",
       "    </tr>\n",
       "    <tr>\n",
       "      <th>Transportation</th>\n",
       "      <td>42</td>\n",
       "      <td>42</td>\n",
       "      <td>41</td>\n",
       "      <td>42</td>\n",
       "      <td>42</td>\n",
       "      <td>42</td>\n",
       "      <td>6</td>\n",
       "      <td>42</td>\n",
       "      <td>39</td>\n",
       "      <td>42</td>\n",
       "    </tr>\n",
       "  </tbody>\n",
       "</table>\n",
       "</div>"
      ],
      "text/plain": [
       "                      name  website  city  country  subdomain  tags  ML/AI  \\\n",
       "domain                                                                       \n",
       "Buildings & Cities      35       35    35       35         35    35      2   \n",
       "Climate Prediction       3        3     3        3          3     3      2   \n",
       "Collective Decisions     4        4     4        4          4     4      0   \n",
       "Education                1        1     1        1          1     1      0   \n",
       "Electricity System      78       78    76       78         78    78     11   \n",
       "Farms & Forests         31       31    31       31         31    31      3   \n",
       "Finance                 11       11    11       11         11    11      0   \n",
       "Individual Action       66       66    66       66         66    66      6   \n",
       "Industry                40       40    38       40         40    40      8   \n",
       "Societal Impact          2        2     2        2          2     2      0   \n",
       "Transportation          42       42    41       42         42    42      6   \n",
       "\n",
       "                      description  logo  source  \n",
       "domain                                           \n",
       "Buildings & Cities             35    33      35  \n",
       "Climate Prediction              3     3       3  \n",
       "Collective Decisions            4     4       4  \n",
       "Education                       1     1       1  \n",
       "Electricity System             78    72      78  \n",
       "Farms & Forests                31    26      31  \n",
       "Finance                        11    11      11  \n",
       "Individual Action              66    60      66  \n",
       "Industry                       40    40      40  \n",
       "Societal Impact                 2     1       2  \n",
       "Transportation                 42    39      42  "
      ]
     },
     "execution_count": 232,
     "metadata": {},
     "output_type": "execute_result"
    }
   ],
   "source": [
    "df_class_groups = data_with_labels.groupby('domain').count()\n",
    "df_class_groups"
   ]
  },
  {
   "cell_type": "code",
   "execution_count": 239,
   "id": "complicated-hartford",
   "metadata": {},
   "outputs": [
    {
     "name": "stdout",
     "output_type": "stream",
     "text": [
      "303\n"
     ]
    }
   ],
   "source": [
    "# remove too small classes \n",
    "big_classes = list(df_class_groups[df_class_groups['name'] > 5].index)\n",
    "data_with_labels = data_with_labels[data_with_labels['domain'].isin(big_classes)]\n",
    "print(len(data_with_labels))"
   ]
  },
  {
   "cell_type": "markdown",
   "id": "timely-bulgarian",
   "metadata": {},
   "source": [
    "# Clean y target"
   ]
  },
  {
   "cell_type": "code",
   "execution_count": 240,
   "id": "productive-jason",
   "metadata": {},
   "outputs": [
    {
     "data": {
      "text/plain": [
       "{0: 'Buildings & Cities',\n",
       " 1: 'Electricity System',\n",
       " 2: 'Farms & Forests',\n",
       " 3: 'Finance',\n",
       " 4: 'Individual Action',\n",
       " 5: 'Industry',\n",
       " 6: 'Transportation'}"
      ]
     },
     "execution_count": 240,
     "metadata": {},
     "output_type": "execute_result"
    }
   ],
   "source": [
    "data_with_labels['domain'] = data_with_labels['domain'].astype('category')\n",
    "data_with_labels['domain_code'] = data_with_labels['domain'].cat.codes\n",
    "mapping_dict = dict( enumerate(data_with_labels['domain'].cat.categories ) )\n",
    "mapping_dict"
   ]
  },
  {
   "cell_type": "markdown",
   "id": "difficult-thumbnail",
   "metadata": {},
   "source": [
    "# Split Train Test"
   ]
  },
  {
   "cell_type": "code",
   "execution_count": 269,
   "id": "animal-contribution",
   "metadata": {},
   "outputs": [],
   "source": [
    "from sklearn.model_selection import train_test_split\n",
    "\n",
    "X_train, X_test, y_train, y_test = train_test_split(data_with_labels['description'], data_with_labels['domain_code'], test_size=0.2, random_state=1)"
   ]
  },
  {
   "cell_type": "markdown",
   "id": "literary-elizabeth",
   "metadata": {},
   "source": [
    "## Preprocessing Pipeline "
   ]
  },
  {
   "cell_type": "code",
   "execution_count": 270,
   "id": "bizarre-profile",
   "metadata": {},
   "outputs": [],
   "source": [
    "class TextPreprocessor():\n",
    "    def __init__(self):\n",
    "        pass\n",
    "    \n",
    "    def fit(self,X):\n",
    "        X_clean = self.clean_text(X)\n",
    "        return X_clean\n",
    "    \n",
    "    def transform(self,X):\n",
    "        X_clean = self.clean_text(X)\n",
    "        return X_clean\n",
    "    \n",
    "    def fit_transform(self,X):\n",
    "        X_clean = self.transform(X)\n",
    "        return X_clean\n",
    "\n",
    "    def clean_text(self, raw_text_list):\n",
    "        stop_words_list = stopwords.words('english')\n",
    "        lemmatizer=WordNetLemmatizer()\n",
    "        clean_text_list = raw_text_list.copy()\n",
    "        clean_text_list = [str(text).lower() for text in clean_text_list]\n",
    "        clean_text_list = [re.sub(r'\\d+', '', text) for text in clean_text_list]\n",
    "        clean_text_list = [text.translate(str.maketrans('', '', string.punctuation)) for text in clean_text_list]\n",
    "        clean_text_list = [word_tokenize(text) for text in clean_text_list]\n",
    "        clean_text_list = [[word for word in text if not word in stop_words_list] for text in clean_text_list]\n",
    "        clean_text_list = [[lemmatizer.lemmatize(word) for word in text] for text in clean_text_list]\n",
    "        clean_text_list = [\" \".join(text) for text in clean_text_list]\n",
    "        return clean_text_list"
   ]
  },
  {
   "cell_type": "code",
   "execution_count": 271,
   "id": "worst-memorial",
   "metadata": {},
   "outputs": [],
   "source": [
    "TextPreprocessor = TextPreprocessor()"
   ]
  },
  {
   "cell_type": "code",
   "execution_count": 272,
   "id": "identical-setting",
   "metadata": {},
   "outputs": [],
   "source": [
    "X_train_clean = TextPreprocessor.fit_transform(X_train)\n",
    "X_test_clean = TextPreprocessor.transform(X_test)"
   ]
  },
  {
   "cell_type": "markdown",
   "id": "bulgarian-elevation",
   "metadata": {},
   "source": [
    "## Vectorize Pipeline"
   ]
  },
  {
   "cell_type": "code",
   "execution_count": 286,
   "id": "muslim-sperm",
   "metadata": {},
   "outputs": [],
   "source": [
    "from sklearn.feature_extraction.text import TfidfVectorizer\n",
    "from sklearn.feature_extraction.text import CountVectorizer\n",
    "\n",
    "\n",
    "vectorizer = CountVectorizer()\n",
    "X_train_vectorized = vectorizer.fit_transform(X_train_clean)\n",
    "X_test_vectorized = vectorizer.transform(X_test_clean)"
   ]
  },
  {
   "cell_type": "markdown",
   "id": "atlantic-saver",
   "metadata": {},
   "source": [
    "## Model Pipeline"
   ]
  },
  {
   "cell_type": "code",
   "execution_count": 287,
   "id": "pursuant-stupid",
   "metadata": {},
   "outputs": [],
   "source": [
    "from sklearn.linear_model import LogisticRegression\n",
    "model = LogisticRegression()\n",
    "\n",
    "model.fit(X_train_vectorized,list(y_train))\n",
    "y_pred = model.predict(X_test_vectorized)"
   ]
  },
  {
   "cell_type": "markdown",
   "id": "touched-evaluation",
   "metadata": {},
   "source": [
    "## Evaluate"
   ]
  },
  {
   "cell_type": "code",
   "execution_count": 288,
   "id": "fundamental-cleanup",
   "metadata": {},
   "outputs": [],
   "source": [
    "from sklearn.metrics import classification_report"
   ]
  },
  {
   "cell_type": "code",
   "execution_count": 296,
   "id": "occasional-airline",
   "metadata": {},
   "outputs": [
    {
     "name": "stdout",
     "output_type": "stream",
     "text": [
      "                    precision    recall  f1-score   support\n",
      "\n",
      "Buildings & Cities       1.00      0.29      0.44         7\n",
      "Electricity System       0.52      0.87      0.65        15\n",
      "   Farms & Forests       1.00      0.25      0.40         4\n",
      "           Finance       0.00      0.00      0.00         4\n",
      " Individual Action       0.48      0.77      0.59        13\n",
      "          Industry       0.67      0.50      0.57         8\n",
      "    Transportation       0.83      0.50      0.62        10\n",
      "\n",
      "          accuracy                           0.57        61\n",
      "         macro avg       0.64      0.45      0.47        61\n",
      "      weighted avg       0.63      0.57      0.54        61\n",
      "\n"
     ]
    },
    {
     "name": "stderr",
     "output_type": "stream",
     "text": [
      "C:\\Users\\DE117240\\Anaconda3\\envs\\playground_env_38\\lib\\site-packages\\sklearn\\metrics\\_classification.py:1245: UndefinedMetricWarning: Precision and F-score are ill-defined and being set to 0.0 in labels with no predicted samples. Use `zero_division` parameter to control this behavior.\n",
      "  _warn_prf(average, modifier, msg_start, len(result))\n",
      "C:\\Users\\DE117240\\Anaconda3\\envs\\playground_env_38\\lib\\site-packages\\sklearn\\metrics\\_classification.py:1245: UndefinedMetricWarning: Precision and F-score are ill-defined and being set to 0.0 in labels with no predicted samples. Use `zero_division` parameter to control this behavior.\n",
      "  _warn_prf(average, modifier, msg_start, len(result))\n",
      "C:\\Users\\DE117240\\Anaconda3\\envs\\playground_env_38\\lib\\site-packages\\sklearn\\metrics\\_classification.py:1245: UndefinedMetricWarning: Precision and F-score are ill-defined and being set to 0.0 in labels with no predicted samples. Use `zero_division` parameter to control this behavior.\n",
      "  _warn_prf(average, modifier, msg_start, len(result))\n"
     ]
    }
   ],
   "source": [
    "class_labels = mapping_dict.values()\n",
    "print(classification_report(y_test, y_pred,target_names=class_labels))"
   ]
  },
  {
   "cell_type": "code",
   "execution_count": 314,
   "id": "controlling-marriage",
   "metadata": {},
   "outputs": [
    {
     "data": {
      "image/png": "[encoded data removed]",
      "text/plain": [
       "<Figure size 1080x1080 with 2 Axes>"
      ]
     },
     "metadata": {
      "needs_background": "light"
     },
     "output_type": "display_data"
    }
   ],
   "source": [
    "import matplotlib.pyplot as plt\n",
    "from sklearn.metrics import plot_confusion_matrix\n",
    "disp = plot_confusion_matrix(model, X_test_vectorized, y_test,\n",
    "                             display_labels=class_labels,\n",
    "                             cmap=plt.cm.Blues,\n",
    "                             normalize=normalize)\n",
    "disp.ax_.set_title(title)\n",
    "plt.rcParams[\"figure.figsize\"] = (10,10)\n",
    "plt.show()"
   ]
  },
  {
   "cell_type": "markdown",
   "id": "qualified-prison",
   "metadata": {},
   "source": [
    "## Lime"
   ]
  },
  {
   "cell_type": "code",
   "execution_count": null,
   "id": "proper-carrier",
   "metadata": {},
   "outputs": [],
   "source": []
  }
 ],
 "metadata": {
  "kernelspec": {
   "display_name": "playground_env_38",
   "language": "python",
   "name": "playground_env_38"
  },
  "language_info": {
   "codemirror_mode": {
    "name": "ipython",
    "version": 3
   },
   "file_extension": ".py",
   "mimetype": "text/x-python",
   "name": "python",
   "nbconvert_exporter": "python",
   "pygments_lexer": "ipython3",
   "version": "3.8.5"
  }
 },
 "nbformat": 4,
 "nbformat_minor": 5
}
